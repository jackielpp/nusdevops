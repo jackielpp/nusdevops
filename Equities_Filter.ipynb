{
  "nbformat": 4,
  "nbformat_minor": 0,
  "metadata": {
    "colab": {
      "name": "Equities Filter.ipynb",
      "provenance": [],
      "authorship_tag": "ABX9TyMvuRsX6lLmta1q+eyQj1+G",
      "include_colab_link": true
    },
    "kernelspec": {
      "name": "python3",
      "display_name": "Python 3"
    },
    "language_info": {
      "name": "python"
    }
  },
  "cells": [
    {
      "cell_type": "markdown",
      "metadata": {
        "id": "view-in-github",
        "colab_type": "text"
      },
      "source": [
        "<a href=\"https://colab.research.google.com/github/jackielpp/nusdevops/blob/main/Equities_Filter.ipynb\" target=\"_parent\"><img src=\"https://colab.research.google.com/assets/colab-badge.svg\" alt=\"Open In Colab\"/></a>"
      ]
    },
    {
      "cell_type": "code",
      "execution_count": 6,
      "metadata": {
        "colab": {
          "base_uri": "https://localhost:8080/"
        },
        "id": "V8euj6Rt5AcL",
        "outputId": "39e8d6e5-2724-4342-9187-d4e619f4d2eb"
      },
      "outputs": [
        {
          "output_type": "stream",
          "name": "stdout",
          "text": [
            "Collecting yfinance\n",
            "  Downloading yfinance-0.1.70-py2.py3-none-any.whl (26 kB)\n",
            "Requirement already satisfied: numpy>=1.15 in /usr/local/lib/python3.7/dist-packages (from yfinance) (1.21.6)\n",
            "Requirement already satisfied: pandas>=0.24.0 in /usr/local/lib/python3.7/dist-packages (from yfinance) (1.3.5)\n",
            "Collecting requests>=2.26\n",
            "  Downloading requests-2.27.1-py2.py3-none-any.whl (63 kB)\n",
            "\u001b[K     |████████████████████████████████| 63 kB 1.2 MB/s \n",
            "\u001b[?25hRequirement already satisfied: multitasking>=0.0.7 in /usr/local/lib/python3.7/dist-packages (from yfinance) (0.0.10)\n",
            "Collecting lxml>=4.5.1\n",
            "  Downloading lxml-4.8.0-cp37-cp37m-manylinux_2_17_x86_64.manylinux2014_x86_64.manylinux_2_24_x86_64.whl (6.4 MB)\n",
            "\u001b[K     |████████████████████████████████| 6.4 MB 8.7 MB/s \n",
            "\u001b[?25hRequirement already satisfied: pytz>=2017.3 in /usr/local/lib/python3.7/dist-packages (from pandas>=0.24.0->yfinance) (2022.1)\n",
            "Requirement already satisfied: python-dateutil>=2.7.3 in /usr/local/lib/python3.7/dist-packages (from pandas>=0.24.0->yfinance) (2.8.2)\n",
            "Requirement already satisfied: six>=1.5 in /usr/local/lib/python3.7/dist-packages (from python-dateutil>=2.7.3->pandas>=0.24.0->yfinance) (1.15.0)\n",
            "Requirement already satisfied: charset-normalizer~=2.0.0 in /usr/local/lib/python3.7/dist-packages (from requests>=2.26->yfinance) (2.0.12)\n",
            "Requirement already satisfied: urllib3<1.27,>=1.21.1 in /usr/local/lib/python3.7/dist-packages (from requests>=2.26->yfinance) (1.24.3)\n",
            "Requirement already satisfied: idna<4,>=2.5 in /usr/local/lib/python3.7/dist-packages (from requests>=2.26->yfinance) (2.10)\n",
            "Requirement already satisfied: certifi>=2017.4.17 in /usr/local/lib/python3.7/dist-packages (from requests>=2.26->yfinance) (2021.10.8)\n",
            "Installing collected packages: requests, lxml, yfinance\n",
            "  Attempting uninstall: requests\n",
            "    Found existing installation: requests 2.23.0\n",
            "    Uninstalling requests-2.23.0:\n",
            "      Successfully uninstalled requests-2.23.0\n",
            "  Attempting uninstall: lxml\n",
            "    Found existing installation: lxml 4.2.6\n",
            "    Uninstalling lxml-4.2.6:\n",
            "      Successfully uninstalled lxml-4.2.6\n",
            "\u001b[31mERROR: pip's dependency resolver does not currently take into account all the packages that are installed. This behaviour is the source of the following dependency conflicts.\n",
            "google-colab 1.0.0 requires requests~=2.23.0, but you have requests 2.27.1 which is incompatible.\n",
            "datascience 0.10.6 requires folium==0.2.1, but you have folium 0.8.3 which is incompatible.\u001b[0m\n",
            "Successfully installed lxml-4.8.0 requests-2.27.1 yfinance-0.1.70\n"
          ]
        }
      ],
      "source": [
        "!pip install yfinance"
      ]
    },
    {
      "cell_type": "code",
      "source": [
        "import yfinance as yf\n",
        "import math\n",
        "import numpy as np\n",
        "import pandas as pd"
      ],
      "metadata": {
        "id": "wagtq7jj5LF4"
      },
      "execution_count": 7,
      "outputs": []
    },
    {
      "cell_type": "code",
      "source": [
        "stock_symbol = \"M44U.SI\"\n",
        "benchmark_symbol = \"^STI\"\n",
        "start = \"2021-1-1\"\n",
        "end = \"2021-12-31\""
      ],
      "metadata": {
        "id": "fG2Ta5EN5pTg"
      },
      "execution_count": 8,
      "outputs": []
    },
    {
      "cell_type": "code",
      "source": [
        "#stock check\n",
        "hist_stock = yf.Ticker(stock_symbol).history(start=start, end=end)\n",
        "hist_stock\n",
        "hist_stock [\"Close\"].plot()"
      ],
      "metadata": {
        "colab": {
          "base_uri": "https://localhost:8080/",
          "height": 294
        },
        "id": "5tbZJSKJ6bxG",
        "outputId": "0871b1d9-01ca-4523-f8f6-e1ae8d96357d"
      },
      "execution_count": 9,
      "outputs": [
        {
          "output_type": "execute_result",
          "data": {
            "text/plain": [
              "<matplotlib.axes._subplots.AxesSubplot at 0x7f0fd6bc8f90>"
            ]
          },
          "metadata": {},
          "execution_count": 9
        },
        {
          "output_type": "display_data",
          "data": {
            "text/plain": [
              "<Figure size 432x288 with 1 Axes>"
            ],
            "image/png": "[encoded data removed]"
          },
          "metadata": {
            "needs_background": "light"
          }
        }
      ]
    },
    {
      "cell_type": "code",
      "source": [
        "#benchmark check\n",
        "hist_benchmark = yf.Ticker(benchmark_symbol).history(start=start, end=end)\n",
        "hist_benchmark\n",
        "hist_benchmark [\"Close\"].plot()"
      ],
      "metadata": {
        "colab": {
          "base_uri": "https://localhost:8080/",
          "height": 294
        },
        "id": "RXXZv6lB7o4x",
        "outputId": "4b1e2e78-f59a-4f36-b1a6-9c8121dd7b33"
      },
      "execution_count": 10,
      "outputs": [
        {
          "output_type": "execute_result",
          "data": {
            "text/plain": [
              "<matplotlib.axes._subplots.AxesSubplot at 0x7f0fd6ac8990>"
            ]
          },
          "metadata": {},
          "execution_count": 10
        },
        {
          "output_type": "display_data",
          "data": {
            "text/plain": [
              "<Figure size 432x288 with 1 Axes>"
            ],
            "image/png": "[encoded data removed]"
          },
          "metadata": {
            "needs_background": "light"
          }
        }
      ]
    },
    {
      "cell_type": "code",
      "source": [
        "def BASS(stock_symbol, benchmark_symbol,start, end):\n",
        "\n",
        "  #Prepare data with returns. Normal returns are used. Can also use log returns\n",
        "  df = pd.DataFrame()\n",
        "  df['Benchmark'] = yf.Ticker(benchmark_symbol).history(start=start, end=end).Close\n",
        "  df['Stock'] = yf.Ticker(stock_symbol).history(start=start, end=end).Close\n",
        "  df['Benchmark_Returns'] = df['Benchmark'].pct_change()\n",
        "  df['Stock_Returns'] = df['Stock'].pct_change()\n",
        "  df = df.dropna()\n",
        "\n",
        "  #calculate Beta\n",
        "  cov = df['Benchmark_Returns'].cov(df['Stock_Returns'])\n",
        "  var = df['Benchmark_Returns'].var()\n",
        "  beta = cov /var\n",
        "  beta = round(beta, 2)\n",
        "\n",
        "  #calculate Alpha\n",
        "  benchmark_abs_returns = (df['Benchmark'][-1] - df['Benchmark'][0]) / df['Benchmark'][0]\n",
        "  stock_abs_returns = (df['Stock'][-1] - df['Stock'][0]) / df['Stock'][0]\n",
        "  alpha = (stock_abs_returns - beta * benchmark_abs_returns) * 1000\n",
        "  alpha = round(alpha, 2)\n",
        "\n",
        "  #calculate Standard deviation of stock\n",
        "  std_dev = (df['Stock_Returns'].std()) * 100\n",
        "  std_dev = round(std_dev, 2)\n",
        "\n",
        "  #calculate Sharpe Ratio of Stock\n",
        "  avg_returns = df['Stock_Returns'].mean()\n",
        "  std = df['Stock_Returns'].std()\n",
        "  daily_SR = avg_returns / std\n",
        "  annual_SR = daily_SR * (252**0.5)\n",
        "  annual_SR = round(annual_SR, 2)\n",
        "\n",
        "  return beta, alpha, std_dev, annual_SR\n",
        "\n"
      ],
      "metadata": {
        "id": "ygXKhBmm8Dmf"
      },
      "execution_count": 13,
      "outputs": []
    },
    {
      "cell_type": "code",
      "source": [
        "A = BASS(stock_symbol, benchmark_symbol, start, end)"
      ],
      "metadata": {
        "id": "LCvD0FcFoQv0"
      },
      "execution_count": 15,
      "outputs": []
    },
    {
      "cell_type": "code",
      "source": [
        "A"
      ],
      "metadata": {
        "id": "aUDLYMpG3icF",
        "outputId": "a2026605-d533-490f-bff7-d23e811d8dc0",
        "colab": {
          "base_uri": "https://localhost:8080/"
        }
      },
      "execution_count": 16,
      "outputs": [
        {
          "output_type": "execute_result",
          "data": {
            "text/plain": [
              "(0.75, -69.46, 1.02, 0.05)"
            ]
          },
          "metadata": {},
          "execution_count": 16
        }
      ]
    },
    {
      "cell_type": "code",
      "source": [
        "all_stocks = [\"C52.SI\", \"U96.SI\", \"C38U.SI\", \"G13.SI\", \"D01.SI\", \"BN4.SI\"]"
      ],
      "metadata": {
        "id": "5qG2BQd0o_sX"
      },
      "execution_count": 2,
      "outputs": []
    },
    {
      "cell_type": "code",
      "source": [
        "stock_name =[]\n",
        "beta_value= []\n",
        "alpha_value = []\n",
        "std_dev_value = []\n",
        "sharpe_ratio_value = []\n",
        "\n",
        "for i in all_stocks:\n",
        "  try:\n",
        "    BASS_output = BASS(i, benchmark_symbol, start, end)\n",
        "    beta_value.append(BASS_output[0])\n",
        "    alpha_value.append(BASS_output[1])\n",
        "    std_dev_value.append(BASS_output[2])\n",
        "    sharpe_ratio_value.append(BASS_output[3])\n",
        "    stock_name.append(i)\n",
        "  except:\n",
        "    pass\n",
        "\n",
        "  output_df =pd.DataFrame()\n",
        "  output_df[\"stock\"] = stock_name\n",
        "  output_df[\"beta\"] = beta_value\n",
        "  output_df[\"alpha(%)\"] = alpha_value\n",
        "  output_df[\"standard_deviation(%)\"] = std_dev_value\n",
        "  output_df[\"sharpe\"] = sharpe_ratio_value\n",
        "\n",
        "  #print (output_df)\n",
        "  print (output_df.sort_values(by=\"sharpe\", ascending = False))"
      ],
      "metadata": {
        "id": "gEvR5-zQ31g2",
        "outputId": "0c675154-bee9-48d2-abbe-a466059e7d46",
        "colab": {
          "base_uri": "https://localhost:8080/"
        }
      },
      "execution_count": 19,
      "outputs": [
        {
          "output_type": "stream",
          "name": "stdout",
          "text": [
            "    stock  beta  alpha(%)  standard_deviation(%)  sharpe\n",
            "0  C52.SI  0.99   -225.39                   1.25   -0.69\n",
            "    stock  beta  alpha(%)  standard_deviation(%)  sharpe\n",
            "1  U96.SI  1.16     88.18                   1.68    0.81\n",
            "0  C52.SI  0.99   -225.39                   1.25   -0.69\n",
            "     stock  beta  alpha(%)  standard_deviation(%)  sharpe\n",
            "1   U96.SI  1.16     88.18                   1.68    0.81\n",
            "2  C38U.SI  0.88   -105.71                   1.12   -0.02\n",
            "0   C52.SI  0.99   -225.39                   1.25   -0.69\n",
            "     stock  beta  alpha(%)  standard_deviation(%)  sharpe\n",
            "1   U96.SI  1.16     88.18                   1.68    0.81\n",
            "2  C38U.SI  0.88   -105.71                   1.12   -0.02\n",
            "3   G13.SI  0.86   -163.49                   1.18   -0.40\n",
            "0   C52.SI  0.99   -225.39                   1.25   -0.69\n",
            "     stock  beta  alpha(%)  standard_deviation(%)  sharpe\n",
            "1   U96.SI  1.16     88.18                   1.68    0.81\n",
            "2  C38U.SI  0.88   -105.71                   1.12   -0.02\n",
            "3   G13.SI  0.86   -163.49                   1.18   -0.40\n",
            "0   C52.SI  0.99   -225.39                   1.25   -0.69\n",
            "4   D01.SI  0.75   -375.46                   1.34   -1.54\n",
            "     stock  beta  alpha(%)  standard_deviation(%)  sharpe\n",
            "1   U96.SI  1.16     88.18                   1.68    0.81\n",
            "2  C38U.SI  0.88   -105.71                   1.12   -0.02\n",
            "5   BN4.SI  1.10   -128.42                   1.27   -0.02\n",
            "3   G13.SI  0.86   -163.49                   1.18   -0.40\n",
            "0   C52.SI  0.99   -225.39                   1.25   -0.69\n",
            "4   D01.SI  0.75   -375.46                   1.34   -1.54\n"
          ]
        }
      ]
    }
  ]
}